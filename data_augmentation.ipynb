{
 "cells": [
  {
   "cell_type": "code",
   "execution_count": null,
   "metadata": {
    "colab": {
     "base_uri": "https://localhost:8080/"
    },
    "executionInfo": {
     "elapsed": 1830,
     "status": "ok",
     "timestamp": 1608214966057,
     "user": {
      "displayName": "ONAT YAPICI",
      "photoUrl": "",
      "userId": "17914734784262371493"
     },
     "user_tz": -180
    },
    "id": "UhJx6w5zMCN_",
    "outputId": "1e010ff4-9fa6-424c-c57a-3117aa0d8439"
   },
   "outputs": [
    {
     "name": "stdout",
     "output_type": "stream",
     "text": [
      "/content/drive/MyDrive/comp451_project_data/all\n"
     ]
    }
   ],
   "source": [
    "cd /content/drive/MyDrive/comp451_project_data/all"
   ]
  },
  {
   "cell_type": "code",
   "execution_count": null,
   "metadata": {
    "colab": {
     "base_uri": "https://localhost:8080/"
    },
    "executionInfo": {
     "elapsed": 1154,
     "status": "ok",
     "timestamp": 1608214976552,
     "user": {
      "displayName": "ONAT YAPICI",
      "photoUrl": "",
      "userId": "17914734784262371493"
     },
     "user_tz": -180
    },
    "id": "OE83_irOSsCN",
    "outputId": "bbf04ed7-e454-4e9c-abd8-01126927e16a"
   },
   "outputs": [
    {
     "name": "stdout",
     "output_type": "stream",
     "text": [
      "\u001b[0m\u001b[01;34mbamya_yemegi\u001b[0m/     \u001b[01;34mhamsi\u001b[0m/           \u001b[01;34mkiymali_pide\u001b[0m/     \u001b[01;34mpirinc_pilavi\u001b[0m/\n",
      "\u001b[01;34mbezelye_yemegi\u001b[0m/   \u001b[01;34mhumus\u001b[0m/           \u001b[01;34mkunefe\u001b[0m/           \u001b[01;34msaksuka\u001b[0m/\n",
      "\u001b[01;34mbiber_dolmasi\u001b[0m/    \u001b[01;34mhunkar_begendi\u001b[0m/  \u001b[01;34mkuru_fasulye\u001b[0m/     \u001b[01;34msekerpare\u001b[0m/\n",
      "\u001b[01;34mborek\u001b[0m/            \u001b[01;34micli_kofte\u001b[0m/      \u001b[01;34mkusbasili_pide\u001b[0m/   \u001b[01;34mshakshuka\u001b[0m/\n",
      "\u001b[01;34mboyoz\u001b[0m/            \u001b[01;34mimam_bayildi\u001b[0m/    \u001b[01;34mkuymak\u001b[0m/           \u001b[01;34msimit\u001b[0m/\n",
      "\u001b[01;34mbulgur_pilavi\u001b[0m/    \u001b[01;34miskender\u001b[0m/        \u001b[01;34mlokum\u001b[0m/            \u001b[01;34msucuklu_yumurta\u001b[0m/\n",
      "\u001b[01;34mcacik\u001b[0m/            \u001b[01;34mispanak\u001b[0m/         \u001b[01;34mmanti\u001b[0m/            \u001b[01;34msutlac\u001b[0m/\n",
      "\u001b[01;34mcig_kofte\u001b[0m/        \u001b[01;34mispanakli_pide\u001b[0m/  \u001b[01;34mmenemen\u001b[0m/          \u001b[01;34mtarator\u001b[0m/\n",
      "\u001b[01;34mdoner\u001b[0m/            \u001b[01;34mkabakcicegi\u001b[0m/     \u001b[01;34mmercimek_yemegi\u001b[0m/  \u001b[01;34mtavuklu_pilav\u001b[0m/\n",
      "\u001b[01;34mekmek_kadayifi\u001b[0m/   \u001b[01;34mkapuska\u001b[0m/         \u001b[01;34mmidye_dolma\u001b[0m/      \u001b[01;34mtaze_fasulye\u001b[0m/\n",
      "\u001b[01;34menginar\u001b[0m/          \u001b[01;34mkaralahana\u001b[0m/      \u001b[01;34mmisir_ekmegi\u001b[0m/     \u001b[01;34myaprak_sarma\u001b[0m/\n",
      "\u001b[01;34metli_ekmek\u001b[0m/       \u001b[01;34mkarniyarik\u001b[0m/      \u001b[01;34mmucver\u001b[0m/\n",
      "\u001b[01;34mfistikli_katmer\u001b[0m/  \u001b[01;34mkebap\u001b[0m/           \u001b[01;34mnohut_yemegi\u001b[0m/\n",
      "\u001b[01;34mgozleme\u001b[0m/          \u001b[01;34mkisir\u001b[0m/           \u001b[01;34mpirasa_yemegi\u001b[0m/\n"
     ]
    }
   ],
   "source": [
    "ls"
   ]
  },
  {
   "cell_type": "code",
   "execution_count": null,
   "metadata": {
    "colab": {
     "base_uri": "https://localhost:8080/",
     "height": 35
    },
    "executionInfo": {
     "elapsed": 643,
     "status": "ok",
     "timestamp": 1608215006111,
     "user": {
      "displayName": "ONAT YAPICI",
      "photoUrl": "",
      "userId": "17914734784262371493"
     },
     "user_tz": -180
    },
    "id": "55ok9AM7HNDS",
    "outputId": "b4a37f73-f994-42e9-9b3d-16e5db1deb0b"
   },
   "outputs": [
    {
     "data": {
      "application/vnd.google.colaboratory.intrinsic+json": {
       "type": "string"
      },
      "text/plain": [
       "'\\nrm /content/drive/MyDrive/comp451_project_data/created/unrotated/*\\n'"
      ]
     },
     "execution_count": 4,
     "metadata": {
      "tags": []
     },
     "output_type": "execute_result"
    }
   ],
   "source": [
    "!mkdir /content/drive/MyDrive/comp451_project_data/created/rotated\n",
    "\"\"\"\n",
    "rm /content/drive/MyDrive/comp451_project_data/created/unrotated/*\n",
    "\"\"\""
   ]
  },
  {
   "cell_type": "code",
   "execution_count": null,
   "metadata": {
    "id": "Olp49THJo5Pi"
   },
   "outputs": [],
   "source": [
    "import os\n",
    "import random\n",
    "import numpy as np\n",
    "import matplotlib.pyplot as plt\n",
    "from PIL import Image, ImageFont, ImageDraw, ImageEnhance\n",
    "import uuid\n",
    "from tqdm import tqdm\n",
    "\n",
    "%matplotlib inline"
   ]
  },
  {
   "cell_type": "code",
   "execution_count": null,
   "metadata": {
    "id": "ELTnPQH-IwdA"
   },
   "outputs": [],
   "source": [
    "row_num = 3\n",
    "col_num = 3\n",
    "min_food = 4\n",
    "max_food = 8\n",
    "\n",
    "assert min_food>0, 'minimum number of food should be 1'\n",
    "assert max_food<=row_num*col_num, \"maxnumberoffood should be row*col\"\n",
    "\n",
    "up_sample = 5\n",
    "\n",
    "table_border = 10\n",
    "bounding_border = 20\n",
    "menu = [x for x in os.listdir() if not x.startswith(\".\")]\n",
    "food_dict = {y:x for x,y in enumerate(os.listdir())}"
   ]
  },
  {
   "cell_type": "code",
   "execution_count": null,
   "metadata": {
    "id": "uEhxDbq7b6nI"
   },
   "outputs": [],
   "source": [
    "legend = open(os.path.join('/content/drive/MyDrive/comp451_project_data/created/rotated', 'dict.txt'), \"w\")\n",
    "{legend.write(f'{x:{2}}' + \", \"+ y + \"\\n\") for (y,x) in food_dict.items()}\n",
    "legend.close()"
   ]
  },
  {
   "cell_type": "code",
   "execution_count": null,
   "metadata": {
    "colab": {
     "base_uri": "https://localhost:8080/"
    },
    "executionInfo": {
     "elapsed": 3100859,
     "status": "ok",
     "timestamp": 1608230282214,
     "user": {
      "displayName": "ONAT YAPICI",
      "photoUrl": "",
      "userId": "17914734784262371493"
     },
     "user_tz": -180
    },
    "id": "c4YKaO3FrTj9",
    "outputId": "4912e8e2-f67e-4246-a61e-a8b22847209d"
   },
   "outputs": [
    {
     "name": "stderr",
     "output_type": "stream",
     "text": [
      "100%|██████████| 30000/30000 [4:14:02<00:00,  1.97it/s]\n"
     ]
    }
   ],
   "source": [
    "for new_data in tqdm(range(30000)):\n",
    "  np.random.seed(new_data)\n",
    "  uuidOne = str(uuid.uuid1())\n",
    "  f = open(os.path.join('/content/drive/MyDrive/comp451_project_data/created/rotated', uuidOne+'.txt'), \"w\")\n",
    "\n",
    "\n",
    "  table = np.random.choice(menu, random.randint(min_food, max_food))\n",
    "\n",
    "  class_arr = []\n",
    "  image_arr = []\n",
    "  for food in table:\n",
    "    class_arr.append(food_dict[food])\n",
    "    image_arr.append((Image.open(os.path.join(food, np.random.choice([x for x in os.listdir(food) if not x.startswith(\".\")])))))\n",
    "\n",
    "\n",
    "  width_total = 416 #(np.sum([x.width for x in image_arr])*up_sample)//row_num\n",
    "  height_total = 416 #(np.sum([x.height for x in image_arr])*up_sample)//col_num\n",
    "\n",
    "  table_photo = Image.new('RGB',\n",
    "                  (width_total,\n",
    "                  height_total))\n",
    "\n",
    "  grid = [(x,y) for x in np.linspace(0,\n",
    "                                    width_total,\n",
    "                                    num = col_num,\n",
    "                                    endpoint = False,\n",
    "                                    dtype=int) for y in np.linspace(0,\n",
    "                                                                      height_total,\n",
    "                                                                      num = row_num,\n",
    "                                                                      endpoint = False,\n",
    "                                                                      dtype=int)]\n",
    "\n",
    "  coords = np.random.randint(len(image_arr), size=len(image_arr))\n",
    "  np.random.shuffle(grid)\n",
    "\n",
    "  #font = ImageFont.truetype('/content/Arial.ttf', 20)\n",
    "  for coord, food in enumerate(image_arr):\n",
    "    size_change = np.random.rand(1)*0.5+1\n",
    "    food = food.resize((width_total//(size_change*col_num)-table_border, height_total//(size_change*row_num)-table_border))\n",
    "    rot = np.random.randint(-80, 80)\n",
    "    food = food.rotate(rot)\n",
    "    midx, midy = (grid[coord][0] +\n",
    "                  food.width/2)/table_photo.width, (grid[coord][1] +\n",
    "                                                    food.height/2)/table_photo.height\n",
    "    \n",
    "    c = np.sqrt(((food.height)**2)*(1+(np.tan(np.deg2rad(abs(rot))))**2)/(1+np.tan(np.deg2rad(abs(rot))))**2)\n",
    "    norm_width, norm_height = c/table_photo.width, c/table_photo.height\n",
    "    table_photo.paste(food, grid[coord])\n",
    "    #print(f'{class_arr[coord]} {midx:{1}.{4}} {midy:{1}.{4}} {norm_width:{1}.{4}} {norm_height:{1}.{4}}\\n')\n",
    "    \"\"\"\n",
    "    draw = ImageDraw.Draw(table_photo)\n",
    "    draw.rectangle((((grid[coord][0]+food.width/2-c/2, grid[coord][1]+food.height/2-c/2)),\n",
    "                  (grid[coord][0]+food.width/2+c/2, grid[coord][1]+food.height/2+c/2)), outline=\"red\")\n",
    "    \n",
    "    draw.text((grid[coord][0]+food.width/2-c/2, grid[coord][1]+food.height/2-c/2), class_arr[coord],fill =\"red\", font=font)\n",
    "    \"\"\"\n",
    "    f.write(f'{class_arr[coord]} {midx:{1}.{4}} {midy:{1}.{4}} {norm_width:{1}.{4}} {norm_height:{1}.{4}}\\n')\n",
    "\n",
    "  f.close() \n",
    "  table_photo.save(os.path.join('/content/drive/MyDrive/comp451_project_data/created/rotated', uuidOne+'.jpg'))"
   ]
  },
  {
   "cell_type": "code",
   "execution_count": null,
   "metadata": {
    "id": "Bqw5yoeJa1ko"
   },
   "outputs": [],
   "source": []
  }
 ],
 "metadata": {
  "colab": {
   "authorship_tag": "ABX9TyNqmK6gBNsPFPxQaNRrxKQG",
   "collapsed_sections": [],
   "mount_file_id": "1JKWrGIMC3IrbikB3upHylqhXeX3yu_B3",
   "name": "comp451_synth",
   "provenance": []
  },
  "kernelspec": {
   "display_name": "Python 3",
   "language": "python",
   "name": "python3"
  },
  "language_info": {
   "codemirror_mode": {
    "name": "ipython",
    "version": 3
   },
   "file_extension": ".py",
   "mimetype": "text/x-python",
   "name": "python",
   "nbconvert_exporter": "python",
   "pygments_lexer": "ipython3",
   "version": "3.8.5"
  }
 },
 "nbformat": 4,
 "nbformat_minor": 1
}
